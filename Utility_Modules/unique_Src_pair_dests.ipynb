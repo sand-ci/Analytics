{
 "cells": [
  {
   "cell_type": "markdown",
   "metadata": {},
   "source": [
    "## Getting Frequency Distribution of Paths\n",
    "\n",
    "For all pairs. All the Paths and the paths which were taken more than once.\n"
   ]
  },
  {
   "cell_type": "code",
   "execution_count": null,
   "metadata": {},
   "outputs": [],
   "source": [
    "# import certifi\n",
    "from elasticsearch import Elasticsearch\n",
    "\n",
    "import r_utils as ut\n",
    "\n",
    "import time\n",
    "import csv \n",
    "import pandas as pd\n",
    "import numpy as np\n",
    "from collections import Counter\n",
    "import multiprocessing as mp\n"
   ]
  },
  {
   "cell_type": "markdown",
   "metadata": {},
   "source": [
    "#### Connecting to ElasticSearch\n",
    "This object will be shared through the entire notebook"
   ]
  },
  {
   "cell_type": "code",
   "execution_count": null,
   "metadata": {},
   "outputs": [],
   "source": [
    "with open(\"../creds.key\") as f:\n",
    "    usrname = f.readline().strip()\n",
    "    passwd = f.readline().strip()\n",
    "\n",
    "# Connecting to Kibana\n",
    "es = Elasticsearch(['atlas-kibana.mwt2.org:9200'], timeout=120, http_auth=(usrname, passwd))\n"
   ]
  },
  {
   "cell_type": "markdown",
   "metadata": {},
   "source": [
    "#### Function Definitions\n",
    "\n",
    "* getSourceDestinationPairs(): Returns the pairs of sources and destinations (IPv4/v6 Addresses).\n",
    "* getPathCounts(): Returns the number of dictionary of path counts between the given source and destination in the specified time range.\n",
    "* topk(): Returns a tuple of total number of paths and paths taken more than once."
   ]
  },
  {
   "cell_type": "code",
   "execution_count": null,
   "metadata": {},
   "outputs": [],
   "source": [
    "def getSourceDestinationPairs(to_date, from_date):\n",
    "    \"\"\"\n",
    "    Get all source and destination pairs\n",
    "    present in the given time range \n",
    "    \n",
    "    Args:\n",
    "        to_date:  epoch_millis\n",
    "        from_date: epoch_millis\n",
    "    \n",
    "    Returns:\n",
    "        Datafame of all source destination pairs\n",
    "    \"\"\"\n",
    "    \n",
    "    query = {\n",
    "        \"size\":0,\n",
    "        \"query\":{\n",
    "            \"bool\":{\n",
    "                \"must\":[\n",
    "                    {\n",
    "                        \"range\":{\n",
    "                            \"timestamp\":{\n",
    "                                \"gte\":from_date,\n",
    "                                \"lte\":to_date,\n",
    "                                \"format\":\"epoch_millis\"\n",
    "                            }\n",
    "                        }\n",
    "                    },\n",
    "                    {\n",
    "                        \"term\":{\n",
    "                            \"dest_production\":{\n",
    "                                \"value\":True\n",
    "                            }\n",
    "                        }\n",
    "                    },\n",
    "                    {\n",
    "                        \"term\":{\n",
    "                            \"src_production\":{\n",
    "                                \"value\":True\n",
    "                            }\n",
    "                        }\n",
    "                    }\n",
    "                ]\n",
    "            }\n",
    "        },\n",
    "        \"aggs\":{\n",
    "            \"sources\":{\n",
    "                \"terms\":{\n",
    "                    \"field\":\"src\",\n",
    "                    \"size\":50\n",
    "                },\n",
    "                \"aggs\":{\n",
    "                    \"destinations\":{\n",
    "                        \"terms\":{\n",
    "                            \"field\":\"dest\",\n",
    "                            \"size\":50\n",
    "                        }\n",
    "                    }\n",
    "                }\n",
    "            }\n",
    "        }\n",
    "    }\n",
    "\n",
    "    print(query)\n",
    "\n",
    "    data = es.search(index='ps_trace', body=query)\n",
    "    \n",
    "    sources = []\n",
    "    destinations = []\n",
    "    \n",
    "    for source in data['aggregations']['sources']['buckets']:\n",
    "        src = source['key']\n",
    "        for destination in source['destinations']['buckets']:\n",
    "            sources.append(src)\n",
    "            destinations.append(destination['key'])\n",
    "    \n",
    "    return pd.DataFrame({\"Source\":sources,\n",
    "                        \"Destinations\":destinations})\n",
    "\n",
    "def getPathCounts(src_ip, dest_ip):\n",
    "    \"\"\"\n",
    "    Returns a list of Counts of Paths taken from given source and destination\n",
    "\n",
    "    Args:\n",
    "        src_ip: Source IP, String [ex: \"192.168.1.1\"]\n",
    "        dest_ip: Destination IP, String [ex: \"192.168.1.5\"]\n",
    "    \n",
    "    Returns:\n",
    "        A list of dictionaries. The dictionary looks as follows:\n",
    "        {\n",
    "            'key':HASH VALUE,\n",
    "            'doc_count': # of times path taken\n",
    "        }\n",
    "    \"\"\"\n",
    "    to_date = ut.getDateFormat()\n",
    "    from_date = ut.getDateFormat(delta=90)\n",
    "\n",
    "    query = {\n",
    "        \"size\":0,\n",
    "        \"query\":{\n",
    "            \"bool\":{\n",
    "                \"must\":[\n",
    "                    {\n",
    "                        \"range\":{\n",
    "                            \"timestamp\":{\n",
    "                                \"gte\":from_date,\n",
    "                                \"lte\":to_date,\n",
    "                                \"format\":\"epoch_millis\"\n",
    "                            }\n",
    "                        }\n",
    "                    },\n",
    "                    {\n",
    "                        \"term\":{\n",
    "                            \"src\":{\n",
    "                                \"value\":src_ip\n",
    "                            }\n",
    "                        }\n",
    "                    },\n",
    "                    {\n",
    "                        \"term\":{\n",
    "                            \"dest\":{\n",
    "                                \"value\":dest_ip\n",
    "                            }\n",
    "                        }\n",
    "                    },\n",
    "                    {\n",
    "                        \"term\":{\n",
    "                            \"src_production\":{\n",
    "                                \"value\":True\n",
    "                            }\n",
    "                        }\n",
    "                    },\n",
    "                    {\n",
    "                        \"term\":{\n",
    "                            \"dest_production\":{\n",
    "                                \"value\":True\n",
    "                            }\n",
    "                        }\n",
    "                    }\n",
    "                ]\n",
    "            }\n",
    "        },\n",
    "        \"aggs\":{\n",
    "            \"HashCounts\":{\n",
    "                \"terms\":{\n",
    "                    \"field\":\"hash\",\n",
    "                    \"size\":9999\n",
    "                }\n",
    "            }\n",
    "        }\n",
    "    }\n",
    "\n",
    "    try:\n",
    "        data = es.search(index='ps_trace', body=query)\n",
    "    except Exception as e:\n",
    "        print(\"ERROR\", e, src_ip, dest_ip, \"\\n\")\n",
    "        return -1\n",
    "    paths = data[\"aggregations\"][\"HashCounts\"][\"buckets\"]\n",
    "    \n",
    "    if len(paths) == 0:\n",
    "        return -1 \n",
    "    else:\n",
    "        return paths\n",
    "\n",
    "def topk(src_ip, dest_ip,k=1):\n",
    "    \"\"\"\n",
    "    Returns a  tuple of total paths and paths taken more than k times\n",
    "\n",
    "    Args:\n",
    "        src_ip: Source IP, String [ex: \"192.168.1.1\"]\n",
    "        dest_ip: Destination IP, String [ex: \"192.168.1.5\"]\n",
    "\n",
    "\n",
    "    Returns:\n",
    "        A tuple of total unique paths and total of paths taken more than k times\n",
    "        If there are no paths between soure and destination, None is returned\n",
    "    \"\"\"\n",
    "    paths = getPathCounts(src_ip, dest_ip)\n",
    "\n",
    "    if paths == -1:\n",
    "        return None\n",
    "\n",
    "    totalPaths = 0\n",
    "    moreKPaths = 0\n",
    "\n",
    "    totalPaths = len(paths)\n",
    "\n",
    "    for item in paths:\n",
    "        if item['doc_count'] > k:\n",
    "            moreKPaths += 1\n",
    "    \n",
    "    return (totalPaths, moreKPaths)\n"
   ]
  },
  {
   "cell_type": "markdown",
   "metadata": {},
   "source": [
    "#### Getting The Source and Detinatin Pairs and setting up the dataframe to store results as well."
   ]
  },
  {
   "cell_type": "code",
   "execution_count": null,
   "metadata": {
    "tags": [
     "outputPrepend"
    ]
   },
   "outputs": [],
   "source": [
    "src_dest_pairs = getSourceDestinationPairs(ut.getDateFormat(), ut.getDateFormat(delta=90))\n",
    "src_dest_pairs['Total'] = np.zeros(src_dest_pairs.shape[0])\n",
    "src_dest_pairs['MoreThanOne'] = np.zeros(src_dest_pairs.shape[0])\n",
    "src_dest_pairs['Processed'] = np.zeros(src_dest_pairs.shape[0])\n",
    "src_dest_pairs.head()\n"
   ]
  },
  {
   "cell_type": "markdown",
   "metadata": {},
   "source": [
    "#### Getting Path Numbers for each source and pair destination using the function below.\n",
    "\n",
    "It accepts a dataframe on which it performs the operations and stores the results."
   ]
  },
  {
   "cell_type": "code",
   "execution_count": null,
   "metadata": {},
   "outputs": [],
   "source": [
    "def getPaths(args):\n",
    "    id = args[0]\n",
    "    df = args[1]\n",
    "    time.sleep(id*0.01)\n",
    "    start_time = time.time()\n",
    "    av_time = 0\n",
    "    print(\"Thread: {} Processing {} Pairs\".format(id, df.shape[0]))\n",
    "    for i in range(df.shape[0]):    \n",
    "        av_st = time.time()\n",
    "        if df.iloc[i,4] != 1:\n",
    "            result = topk(df.iloc[i,0], df.iloc[i,1])\n",
    "            if result is not None:\n",
    "                df.iat[i,2] = result[0]\n",
    "                df.iat[i,3] = result[1]\n",
    "\n",
    "            df.iat[i,4] = 1\n",
    "        av_time += time.time() - av_st \n",
    "        \n",
    "        if (i+1) % 100 == 0:\n",
    "            print(\"Processed: {:4d} by Thread: {:2d} | Average Time Per Pair: {:1.5f}s | Approx ETA: {:4.3f}s\".format(i+1,id, av_time/75,(av_time/75)*(df.shape[0]-i)))\n",
    "            av_time = 0\n",
    "\n",
    "    print(\"Finished Thread:{:2d} | Time Taken:{} \".format(id, time.time() - start_time))\n",
    "    return df\n"
   ]
  },
  {
   "cell_type": "markdown",
   "metadata": {},
   "source": [
    "#### Processing the Pairs in Parallel to make pocessing faster. "
   ]
  },
  {
   "cell_type": "code",
   "execution_count": null,
   "metadata": {},
   "outputs": [],
   "source": [
    "n_threads = 7\n",
    "\n",
    "df_pieces = np.array_split(src_dest_pairs, n_threads)\n",
    "\n",
    "pool = mp.Pool(n_threads)\n",
    "\n",
    "arguments = []\n",
    "\n",
    "for i in range(n_threads):\n",
    "    arguments.append(i)\n",
    "    arguments.append(df_pieces[i])\n",
    "\n",
    "results = pool.map(getPaths, [[i, df_pieces[i]] for i in range(n_threads)])\n",
    "\n",
    "pool.close()"
   ]
  },
  {
   "cell_type": "code",
   "execution_count": null,
   "metadata": {},
   "outputs": [],
   "source": [
    "src_dest_results = pd.concat(results)\n",
    "src_dest_results.head()"
   ]
  },
  {
   "cell_type": "markdown",
   "metadata": {},
   "source": [
    "#### Looking for TimedOutPairs"
   ]
  },
  {
   "cell_type": "code",
   "execution_count": null,
   "metadata": {},
   "outputs": [],
   "source": [
    "print(\"Number of TimedOut Pairs: \", src_dest_results[src_dest_results['Total'] == 0].shape[0])"
   ]
  },
  {
   "cell_type": "markdown",
   "metadata": {},
   "source": [
    "#### Fixing the TimedOut Pairs"
   ]
  },
  {
   "cell_type": "code",
   "execution_count": null,
   "metadata": {},
   "outputs": [],
   "source": [
    "for index, row in src_dest_results[src_dest_results['Total'] == 0].iterrows():\n",
    "    result = topk(src_dest_results.iloc[index,0], src_dest_results.iloc[index,1])\n",
    "    src_dest_results.iloc[index,2] = result[0]\n",
    "    src_dest_results.iloc[index,3] = result[1]\n",
    "\n",
    "print(\"Number of TimedOut Pairs: \", src_dest_results[src_dest_results['Total'] == 0].shape[0])"
   ]
  },
  {
   "cell_type": "markdown",
   "metadata": {},
   "source": [
    "#### Adding a Column Containing the Number of Paths taken only once."
   ]
  },
  {
   "cell_type": "code",
   "execution_count": null,
   "metadata": {},
   "outputs": [],
   "source": [
    "src_dest_results['Once'] = src_dest_results['Total'] - src_dest_results['MoreThanOne']"
   ]
  },
  {
   "cell_type": "markdown",
   "metadata": {},
   "source": [
    "#### Saving data to file"
   ]
  },
  {
   "cell_type": "code",
   "execution_count": null,
   "metadata": {},
   "outputs": [],
   "source": [
    "src_dest_results.to_csv(\"../Results/SourceDestinationPairs.csv\",index=False)"
   ]
  },
  {
   "cell_type": "code",
   "execution_count": null,
   "metadata": {},
   "outputs": [],
   "source": []
  }
 ],
 "metadata": {
  "file_extension": ".py",
  "kernelspec": {
   "display_name": "Python 3.8.5 64-bit",
   "language": "python",
   "name": "python_defaultSpec_1597165506520"
  },
  "language_info": {
   "codemirror_mode": {
    "name": "ipython",
    "version": 3
   },
   "file_extension": ".py",
   "mimetype": "text/x-python",
   "name": "python",
   "nbconvert_exporter": "python",
   "pygments_lexer": "ipython3",
   "version": "3.7.3"
  },
  "mimetype": "text/x-python",
  "name": "python",
  "npconvert_exporter": "python",
  "pygments_lexer": "ipython3",
  "version": 3
 },
 "nbformat": 4,
 "nbformat_minor": 4
}